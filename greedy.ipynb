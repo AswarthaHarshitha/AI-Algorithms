{
  "nbformat": 4,
  "nbformat_minor": 0,
  "metadata": {
    "colab": {
      "provenance": []
    },
    "kernelspec": {
      "name": "python3",
      "display_name": "Python 3"
    },
    "language_info": {
      "name": "python"
    }
  },
  "cells": [
    {
      "cell_type": "code",
      "execution_count": 2,
      "metadata": {
        "colab": {
          "base_uri": "https://localhost:8080/"
        },
        "id": "FetjY1EXqRI2",
        "outputId": "ab7d8958-f4a9-474b-8f16-b76146ca6d9f"
      },
      "outputs": [
        {
          "output_type": "stream",
          "name": "stdout",
          "text": [
            "S -> B -> F -> G\n"
          ]
        }
      ],
      "source": [
        "import numpy as np\n",
        "\n",
        "# Adjacency matrix representation of the graph\n",
        "adj_matrix = np.array([\n",
        "    [0, 1, 1, 0, 0, 0, 0, 0, 0, 0],  # S\n",
        "    [0, 0, 0, 1, 1, 0, 0, 0, 0, 0],  # A\n",
        "    [0, 0, 0, 0, 0, 1, 1, 0, 0, 0],  # B\n",
        "    [0, 0, 0, 0, 0, 0, 0, 0, 0, 0],  # C\n",
        "    [0, 0, 0, 0, 0, 0, 0, 0, 0, 0],  # D\n",
        "    [0, 0, 0, 0, 0, 0, 0, 1, 0, 0],  # E\n",
        "    [0, 0, 0, 0, 0, 0, 0, 0, 1, 1],  # F\n",
        "    [0, 0, 0, 0, 0, 0, 0, 0, 0, 0],  # H\n",
        "    [0, 0, 0, 0, 0, 0, 0, 0, 0, 0],  # I\n",
        "    [0, 0, 0, 0, 0, 0, 0, 0, 0, 0],  # G\n",
        "])\n",
        "\n",
        "# Heuristic values for each node\n",
        "heuristic = {\n",
        "    'S': 13, 'A': 12, 'B': 4, 'C': 7, 'D': 3,\n",
        "    'E': 8, 'F': 2, 'G': 0, 'H': 4, 'I': 9\n",
        "}\n",
        "\n",
        "# Node-to-index mapping\n",
        "node_to_index = {\n",
        "    'S': 0, 'A': 1, 'B': 2, 'C': 3, 'D': 4,\n",
        "    'E': 5, 'F': 6, 'H': 7, 'I': 8, 'G': 9\n",
        "}\n",
        "index_to_node = {v: k for k, v in node_to_index.items()}\n",
        "\n",
        "# Greedy Best-First Search function\n",
        "def greedy_best_first_search(start, goal):\n",
        "    open_list = [(start, heuristic[start])]\n",
        "    visited = set()\n",
        "    path = []\n",
        "\n",
        "    while open_list:\n",
        "        open_list.sort(key=lambda x: x[1])  # Sort by heuristic value\n",
        "        current, _ = open_list.pop(0)\n",
        "        path.append(current)\n",
        "        visited.add(current)\n",
        "\n",
        "        if current == goal:\n",
        "            return path\n",
        "\n",
        "        current_index = node_to_index[current]\n",
        "        neighbors = [\n",
        "            index_to_node[i]\n",
        "            for i in range(len(adj_matrix[current_index]))\n",
        "            if adj_matrix[current_index][i] == 1\n",
        "        ]\n",
        "\n",
        "        for neighbor in neighbors:\n",
        "            if neighbor not in visited and neighbor not in [n[0] for n in open_list]:\n",
        "                open_list.append((neighbor, heuristic[neighbor]))\n",
        "\n",
        "    return path\n",
        "\n",
        "# Running the search algorithm\n",
        "result_path = greedy_best_first_search('S', 'G')\n",
        "print(\" -> \".join(result_path))\n"
      ]
    }
  ]
}